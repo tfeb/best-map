{
 "cells": [
  {
   "cell_type": "markdown",
   "metadata": {},
   "source": [
    "# Understanding arrays in Numpy\n",
    "Or as much of them as I need to understand for now."
   ]
  },
  {
   "cell_type": "code",
   "execution_count": 2,
   "metadata": {
    "collapsed": true
   },
   "outputs": [],
   "source": [
    "import numpy as np"
   ]
  },
  {
   "cell_type": "code",
   "execution_count": 20,
   "metadata": {
    "collapsed": false
   },
   "outputs": [
    {
     "data": {
      "text/plain": [
       "array([[(0, 0, 0.0), (0, 1, 1.0)],\n",
       "       [(1, 0, 2.0), (1, 1, 3.0)]], \n",
       "      dtype=[('x', '<u2'), ('y', '<u2'), ('d', '<f8')])"
      ]
     },
     "execution_count": 20,
     "metadata": {},
     "output_type": "execute_result"
    }
   ],
   "source": [
    "a = np.empty((2, 2), dtype=[('x', 'u2'), ('y', 'u2'), ('d', 'float')])\n",
    "for x in range(2):\n",
    "    for y in range(2):\n",
    "        a[x, y] = (x, y, 2*x + y)\n",
    "a"
   ]
  },
  {
   "cell_type": "code",
   "execution_count": 22,
   "metadata": {
    "collapsed": false
   },
   "outputs": [
    {
     "data": {
      "text/plain": [
       "array([(0, 0, 0.0), (0, 1, 1.0), (1, 0, 2.0), (1, 1, 3.0)], \n",
       "      dtype=[('x', '<u2'), ('y', '<u2'), ('d', '<f8')])"
      ]
     },
     "execution_count": 22,
     "metadata": {},
     "output_type": "execute_result"
    }
   ],
   "source": [
    "# This seems to be the supported way to reshape an array such that you *know* there\n",
    "# will be no copying\n",
    "#\n",
    "# This shows that the default layout (which is 'C') is row-major\n",
    "#\n",
    "a.shape = sum(a.shape)\n",
    "a"
   ]
  },
  {
   "cell_type": "code",
   "execution_count": 33,
   "metadata": {
    "collapsed": false
   },
   "outputs": [
    {
     "name": "stdout",
     "output_type": "stream",
     "text": [
      "[[(0, 0, 0.0) (0, 1, 2.0)]\n",
      " [(1, 0, 1.0) (1, 1, 3.0)]]\n",
      "[(0, 0, 0.0) (0, 1, 2.0) (1, 0, 1.0) (1, 1, 3.0)]\n",
      "[(0, 0, 0.0) (1, 0, 1.0) (0, 1, 2.0) (1, 1, 3.0)]\n"
     ]
    }
   ],
   "source": [
    "# And sorting in-place\n",
    "#\n",
    "b = np.empty((2, 2), dtype=[('x', 'u2'), ('y', 'u2'), ('d', 'float')])\n",
    "\n",
    "for x in range(2):\n",
    "    for y in range(2):\n",
    "        b[x, y] = (x, y, x + 2*y)\n",
    "\n",
    "print b\n",
    "b.shape = sum(b.shape)\n",
    "print b\n",
    "b.sort(order='d')\n",
    "print b"
   ]
  }
 ],
 "metadata": {
  "anaconda-cloud": {},
  "kernelspec": {
   "display_name": "Python [conda root]",
   "language": "python",
   "name": "conda-root-py"
  },
  "language_info": {
   "codemirror_mode": {
    "name": "ipython",
    "version": 2
   },
   "file_extension": ".py",
   "mimetype": "text/x-python",
   "name": "python",
   "nbconvert_exporter": "python",
   "pygments_lexer": "ipython2",
   "version": "2.7.12"
  }
 },
 "nbformat": 4,
 "nbformat_minor": 1
}
